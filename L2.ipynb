{
  "nbformat": 4,
  "nbformat_minor": 0,
  "metadata": {
    "colab": {
      "provenance": []
    },
    "kernelspec": {
      "name": "python3",
      "display_name": "Python 3"
    },
    "language_info": {
      "name": "python"
    },
    "widgets": {
      "application/vnd.jupyter.widget-state+json": {
        "9bea2275ac9c42e68f702d25be974601": {
          "model_module": "@jupyter-widgets/controls",
          "model_name": "VBoxModel",
          "model_module_version": "1.5.0",
          "state": {
            "_dom_classes": [],
            "_model_module": "@jupyter-widgets/controls",
            "_model_module_version": "1.5.0",
            "_model_name": "VBoxModel",
            "_view_count": null,
            "_view_module": "@jupyter-widgets/controls",
            "_view_module_version": "1.5.0",
            "_view_name": "VBoxView",
            "box_style": "",
            "children": [
              "IPY_MODEL_408473e6e02546569677d59dd7afd6c9",
              "IPY_MODEL_923e8f29cdfd453c86afcfbba95e8432",
              "IPY_MODEL_e9dff129b56f4f58a08a926411091059"
            ],
            "layout": "IPY_MODEL_f3acb36396db4871b29295c4794c087f"
          }
        },
        "408473e6e02546569677d59dd7afd6c9": {
          "model_module": "@jupyter-widgets/controls",
          "model_name": "TextModel",
          "model_module_version": "1.5.0",
          "state": {
            "_dom_classes": [],
            "_model_module": "@jupyter-widgets/controls",
            "_model_module_version": "1.5.0",
            "_model_name": "TextModel",
            "_view_count": null,
            "_view_module": "@jupyter-widgets/controls",
            "_view_module_version": "1.5.0",
            "_view_name": "TextView",
            "continuous_update": true,
            "description": "Sentence:",
            "description_tooltip": null,
            "disabled": false,
            "layout": "IPY_MODEL_6564bf209d784fea8b5b5b8b5c951eb5",
            "placeholder": "Type your Luhya Logooli sentence here",
            "style": "IPY_MODEL_0dbb1739601e42abba17246888aee5a5",
            "value": "Yavo Ava li Ni VA mwidzominya va mu lega, kigira va Loli kyahonyo kikye."
          }
        },
        "923e8f29cdfd453c86afcfbba95e8432": {
          "model_module": "@jupyter-widgets/controls",
          "model_name": "ButtonModel",
          "model_module_version": "1.5.0",
          "state": {
            "_dom_classes": [],
            "_model_module": "@jupyter-widgets/controls",
            "_model_module_version": "1.5.0",
            "_model_name": "ButtonModel",
            "_view_count": null,
            "_view_module": "@jupyter-widgets/controls",
            "_view_module_version": "1.5.0",
            "_view_name": "ButtonView",
            "button_style": "success",
            "description": "Translate",
            "disabled": false,
            "icon": "",
            "layout": "IPY_MODEL_6a62b4639a754ff3b4fea907475df888",
            "style": "IPY_MODEL_798038c17c074a72b960d5566c2e098e",
            "tooltip": ""
          }
        },
        "e9dff129b56f4f58a08a926411091059": {
          "model_module": "@jupyter-widgets/output",
          "model_name": "OutputModel",
          "model_module_version": "1.0.0",
          "state": {
            "_dom_classes": [],
            "_model_module": "@jupyter-widgets/output",
            "_model_module_version": "1.0.0",
            "_model_name": "OutputModel",
            "_view_count": null,
            "_view_module": "@jupyter-widgets/output",
            "_view_module_version": "1.0.0",
            "_view_name": "OutputView",
            "layout": "IPY_MODEL_23d4a42c7a2e4f09b630f3d5a79164de",
            "msg_id": "",
            "outputs": [
              {
                "output_type": "stream",
                "name": "stdout",
                "text": [
                  "Translated text: \n"
                ]
              }
            ]
          }
        },
        "f3acb36396db4871b29295c4794c087f": {
          "model_module": "@jupyter-widgets/base",
          "model_name": "LayoutModel",
          "model_module_version": "1.2.0",
          "state": {
            "_model_module": "@jupyter-widgets/base",
            "_model_module_version": "1.2.0",
            "_model_name": "LayoutModel",
            "_view_count": null,
            "_view_module": "@jupyter-widgets/base",
            "_view_module_version": "1.2.0",
            "_view_name": "LayoutView",
            "align_content": null,
            "align_items": null,
            "align_self": null,
            "border": null,
            "bottom": null,
            "display": null,
            "flex": null,
            "flex_flow": null,
            "grid_area": null,
            "grid_auto_columns": null,
            "grid_auto_flow": null,
            "grid_auto_rows": null,
            "grid_column": null,
            "grid_gap": null,
            "grid_row": null,
            "grid_template_areas": null,
            "grid_template_columns": null,
            "grid_template_rows": null,
            "height": null,
            "justify_content": null,
            "justify_items": null,
            "left": null,
            "margin": null,
            "max_height": null,
            "max_width": null,
            "min_height": null,
            "min_width": null,
            "object_fit": null,
            "object_position": null,
            "order": null,
            "overflow": null,
            "overflow_x": null,
            "overflow_y": null,
            "padding": null,
            "right": null,
            "top": null,
            "visibility": null,
            "width": null
          }
        },
        "6564bf209d784fea8b5b5b8b5c951eb5": {
          "model_module": "@jupyter-widgets/base",
          "model_name": "LayoutModel",
          "model_module_version": "1.2.0",
          "state": {
            "_model_module": "@jupyter-widgets/base",
            "_model_module_version": "1.2.0",
            "_model_name": "LayoutModel",
            "_view_count": null,
            "_view_module": "@jupyter-widgets/base",
            "_view_module_version": "1.2.0",
            "_view_name": "LayoutView",
            "align_content": null,
            "align_items": null,
            "align_self": null,
            "border": null,
            "bottom": null,
            "display": null,
            "flex": null,
            "flex_flow": null,
            "grid_area": null,
            "grid_auto_columns": null,
            "grid_auto_flow": null,
            "grid_auto_rows": null,
            "grid_column": null,
            "grid_gap": null,
            "grid_row": null,
            "grid_template_areas": null,
            "grid_template_columns": null,
            "grid_template_rows": null,
            "height": null,
            "justify_content": null,
            "justify_items": null,
            "left": null,
            "margin": null,
            "max_height": null,
            "max_width": null,
            "min_height": null,
            "min_width": null,
            "object_fit": null,
            "object_position": null,
            "order": null,
            "overflow": null,
            "overflow_x": null,
            "overflow_y": null,
            "padding": null,
            "right": null,
            "top": null,
            "visibility": null,
            "width": "80%"
          }
        },
        "0dbb1739601e42abba17246888aee5a5": {
          "model_module": "@jupyter-widgets/controls",
          "model_name": "DescriptionStyleModel",
          "model_module_version": "1.5.0",
          "state": {
            "_model_module": "@jupyter-widgets/controls",
            "_model_module_version": "1.5.0",
            "_model_name": "DescriptionStyleModel",
            "_view_count": null,
            "_view_module": "@jupyter-widgets/base",
            "_view_module_version": "1.2.0",
            "_view_name": "StyleView",
            "description_width": ""
          }
        },
        "6a62b4639a754ff3b4fea907475df888": {
          "model_module": "@jupyter-widgets/base",
          "model_name": "LayoutModel",
          "model_module_version": "1.2.0",
          "state": {
            "_model_module": "@jupyter-widgets/base",
            "_model_module_version": "1.2.0",
            "_model_name": "LayoutModel",
            "_view_count": null,
            "_view_module": "@jupyter-widgets/base",
            "_view_module_version": "1.2.0",
            "_view_name": "LayoutView",
            "align_content": null,
            "align_items": null,
            "align_self": null,
            "border": null,
            "bottom": null,
            "display": null,
            "flex": null,
            "flex_flow": null,
            "grid_area": null,
            "grid_auto_columns": null,
            "grid_auto_flow": null,
            "grid_auto_rows": null,
            "grid_column": null,
            "grid_gap": null,
            "grid_row": null,
            "grid_template_areas": null,
            "grid_template_columns": null,
            "grid_template_rows": null,
            "height": null,
            "justify_content": null,
            "justify_items": null,
            "left": null,
            "margin": null,
            "max_height": null,
            "max_width": null,
            "min_height": null,
            "min_width": null,
            "object_fit": null,
            "object_position": null,
            "order": null,
            "overflow": null,
            "overflow_x": null,
            "overflow_y": null,
            "padding": null,
            "right": null,
            "top": null,
            "visibility": null,
            "width": "20%"
          }
        },
        "798038c17c074a72b960d5566c2e098e": {
          "model_module": "@jupyter-widgets/controls",
          "model_name": "ButtonStyleModel",
          "model_module_version": "1.5.0",
          "state": {
            "_model_module": "@jupyter-widgets/controls",
            "_model_module_version": "1.5.0",
            "_model_name": "ButtonStyleModel",
            "_view_count": null,
            "_view_module": "@jupyter-widgets/base",
            "_view_module_version": "1.2.0",
            "_view_name": "StyleView",
            "button_color": null,
            "font_weight": ""
          }
        },
        "23d4a42c7a2e4f09b630f3d5a79164de": {
          "model_module": "@jupyter-widgets/base",
          "model_name": "LayoutModel",
          "model_module_version": "1.2.0",
          "state": {
            "_model_module": "@jupyter-widgets/base",
            "_model_module_version": "1.2.0",
            "_model_name": "LayoutModel",
            "_view_count": null,
            "_view_module": "@jupyter-widgets/base",
            "_view_module_version": "1.2.0",
            "_view_name": "LayoutView",
            "align_content": null,
            "align_items": null,
            "align_self": null,
            "border": null,
            "bottom": null,
            "display": null,
            "flex": null,
            "flex_flow": null,
            "grid_area": null,
            "grid_auto_columns": null,
            "grid_auto_flow": null,
            "grid_auto_rows": null,
            "grid_column": null,
            "grid_gap": null,
            "grid_row": null,
            "grid_template_areas": null,
            "grid_template_columns": null,
            "grid_template_rows": null,
            "height": null,
            "justify_content": null,
            "justify_items": null,
            "left": null,
            "margin": null,
            "max_height": null,
            "max_width": null,
            "min_height": null,
            "min_width": null,
            "object_fit": null,
            "object_position": null,
            "order": null,
            "overflow": null,
            "overflow_x": null,
            "overflow_y": null,
            "padding": null,
            "right": null,
            "top": null,
            "visibility": null,
            "width": null
          }
        },
        "83e132288b6643a3abf1281474b95ee6": {
          "model_module": "@jupyter-widgets/controls",
          "model_name": "TextModel",
          "model_module_version": "1.5.0",
          "state": {
            "_dom_classes": [],
            "_model_module": "@jupyter-widgets/controls",
            "_model_module_version": "1.5.0",
            "_model_name": "TextModel",
            "_view_count": null,
            "_view_module": "@jupyter-widgets/controls",
            "_view_module_version": "1.5.0",
            "_view_name": "TextView",
            "continuous_update": true,
            "description": "Enter sentence:",
            "description_tooltip": null,
            "disabled": false,
            "layout": "IPY_MODEL_fc0d8dfde0394dc3a86efa27acf723b8",
            "placeholder": "Type here",
            "style": "IPY_MODEL_ebc55fcb6d0444af9000a403bcb03078",
            "value": ""
          }
        },
        "fc0d8dfde0394dc3a86efa27acf723b8": {
          "model_module": "@jupyter-widgets/base",
          "model_name": "LayoutModel",
          "model_module_version": "1.2.0",
          "state": {
            "_model_module": "@jupyter-widgets/base",
            "_model_module_version": "1.2.0",
            "_model_name": "LayoutModel",
            "_view_count": null,
            "_view_module": "@jupyter-widgets/base",
            "_view_module_version": "1.2.0",
            "_view_name": "LayoutView",
            "align_content": null,
            "align_items": null,
            "align_self": null,
            "border": null,
            "bottom": null,
            "display": null,
            "flex": null,
            "flex_flow": null,
            "grid_area": null,
            "grid_auto_columns": null,
            "grid_auto_flow": null,
            "grid_auto_rows": null,
            "grid_column": null,
            "grid_gap": null,
            "grid_row": null,
            "grid_template_areas": null,
            "grid_template_columns": null,
            "grid_template_rows": null,
            "height": null,
            "justify_content": null,
            "justify_items": null,
            "left": null,
            "margin": null,
            "max_height": null,
            "max_width": null,
            "min_height": null,
            "min_width": null,
            "object_fit": null,
            "object_position": null,
            "order": null,
            "overflow": null,
            "overflow_x": null,
            "overflow_y": null,
            "padding": null,
            "right": null,
            "top": null,
            "visibility": null,
            "width": null
          }
        },
        "ebc55fcb6d0444af9000a403bcb03078": {
          "model_module": "@jupyter-widgets/controls",
          "model_name": "DescriptionStyleModel",
          "model_module_version": "1.5.0",
          "state": {
            "_model_module": "@jupyter-widgets/controls",
            "_model_module_version": "1.5.0",
            "_model_name": "DescriptionStyleModel",
            "_view_count": null,
            "_view_module": "@jupyter-widgets/base",
            "_view_module_version": "1.2.0",
            "_view_name": "StyleView",
            "description_width": ""
          }
        },
        "846e5ea69d234693a6a226a8beaf8405": {
          "model_module": "@jupyter-widgets/controls",
          "model_name": "ButtonModel",
          "model_module_version": "1.5.0",
          "state": {
            "_dom_classes": [],
            "_model_module": "@jupyter-widgets/controls",
            "_model_module_version": "1.5.0",
            "_model_name": "ButtonModel",
            "_view_count": null,
            "_view_module": "@jupyter-widgets/controls",
            "_view_module_version": "1.5.0",
            "_view_name": "ButtonView",
            "button_style": "",
            "description": "Translate",
            "disabled": false,
            "icon": "",
            "layout": "IPY_MODEL_0e15f65d50ef487493ee61f035e274ca",
            "style": "IPY_MODEL_4228608608064967b15d93637b3165f8",
            "tooltip": ""
          }
        },
        "0e15f65d50ef487493ee61f035e274ca": {
          "model_module": "@jupyter-widgets/base",
          "model_name": "LayoutModel",
          "model_module_version": "1.2.0",
          "state": {
            "_model_module": "@jupyter-widgets/base",
            "_model_module_version": "1.2.0",
            "_model_name": "LayoutModel",
            "_view_count": null,
            "_view_module": "@jupyter-widgets/base",
            "_view_module_version": "1.2.0",
            "_view_name": "LayoutView",
            "align_content": null,
            "align_items": null,
            "align_self": null,
            "border": null,
            "bottom": null,
            "display": null,
            "flex": null,
            "flex_flow": null,
            "grid_area": null,
            "grid_auto_columns": null,
            "grid_auto_flow": null,
            "grid_auto_rows": null,
            "grid_column": null,
            "grid_gap": null,
            "grid_row": null,
            "grid_template_areas": null,
            "grid_template_columns": null,
            "grid_template_rows": null,
            "height": null,
            "justify_content": null,
            "justify_items": null,
            "left": null,
            "margin": null,
            "max_height": null,
            "max_width": null,
            "min_height": null,
            "min_width": null,
            "object_fit": null,
            "object_position": null,
            "order": null,
            "overflow": null,
            "overflow_x": null,
            "overflow_y": null,
            "padding": null,
            "right": null,
            "top": null,
            "visibility": null,
            "width": null
          }
        },
        "4228608608064967b15d93637b3165f8": {
          "model_module": "@jupyter-widgets/controls",
          "model_name": "ButtonStyleModel",
          "model_module_version": "1.5.0",
          "state": {
            "_model_module": "@jupyter-widgets/controls",
            "_model_module_version": "1.5.0",
            "_model_name": "ButtonStyleModel",
            "_view_count": null,
            "_view_module": "@jupyter-widgets/base",
            "_view_module_version": "1.2.0",
            "_view_name": "StyleView",
            "button_color": null,
            "font_weight": ""
          }
        },
        "81eaa5538f3843dfb6b3446cba788979": {
          "model_module": "@jupyter-widgets/output",
          "model_name": "OutputModel",
          "model_module_version": "1.0.0",
          "state": {
            "_dom_classes": [],
            "_model_module": "@jupyter-widgets/output",
            "_model_module_version": "1.0.0",
            "_model_name": "OutputModel",
            "_view_count": null,
            "_view_module": "@jupyter-widgets/output",
            "_view_module_version": "1.0.0",
            "_view_name": "OutputView",
            "layout": "IPY_MODEL_3ffb70e1049143a4ab50973c03f8493c",
            "msg_id": "",
            "outputs": []
          }
        },
        "3ffb70e1049143a4ab50973c03f8493c": {
          "model_module": "@jupyter-widgets/base",
          "model_name": "LayoutModel",
          "model_module_version": "1.2.0",
          "state": {
            "_model_module": "@jupyter-widgets/base",
            "_model_module_version": "1.2.0",
            "_model_name": "LayoutModel",
            "_view_count": null,
            "_view_module": "@jupyter-widgets/base",
            "_view_module_version": "1.2.0",
            "_view_name": "LayoutView",
            "align_content": null,
            "align_items": null,
            "align_self": null,
            "border": null,
            "bottom": null,
            "display": null,
            "flex": null,
            "flex_flow": null,
            "grid_area": null,
            "grid_auto_columns": null,
            "grid_auto_flow": null,
            "grid_auto_rows": null,
            "grid_column": null,
            "grid_gap": null,
            "grid_row": null,
            "grid_template_areas": null,
            "grid_template_columns": null,
            "grid_template_rows": null,
            "height": null,
            "justify_content": null,
            "justify_items": null,
            "left": null,
            "margin": null,
            "max_height": null,
            "max_width": null,
            "min_height": null,
            "min_width": null,
            "object_fit": null,
            "object_position": null,
            "order": null,
            "overflow": null,
            "overflow_x": null,
            "overflow_y": null,
            "padding": null,
            "right": null,
            "top": null,
            "visibility": null,
            "width": null
          }
        }
      }
    }
  },
  "cells": [
    {
      "cell_type": "markdown",
      "source": [
        "# Importing libraries for text processing and translation modeling.\n",
        "\n",
        "\n",
        "1. **`pandas as pd`**: Pandas is used for data manipulation and analysis. It provides data structures and functions needed to work with structured data.\n",
        "\n",
        "2. **`re`**: The module handles regular expressions in Python, which are useful for text processing and pattern matching.\n",
        "\n",
        "3. **`nltk`**: The Natural Language Toolkit (NLTK) is a library for working with human language data. It includes tools for text processing, tokenization, stemming, and more.\n",
        "\n",
        "4. **`from nltk.translate import AlignedSent, IBMModel1`**:\n",
        "   - **`AlignedSent`**: Represents a pair of sentences that are aligned in translation tasks.\n",
        "   - **`IBMModel1`**: A statistical model for machine translation that learns the probability of word alignments in parallel corpora.\n"
      ],
      "metadata": {
        "id": "AxP9jxaAIDJm"
      }
    },
    {
      "cell_type": "code",
      "execution_count": 1,
      "metadata": {
        "id": "NkZoip64pKbh"
      },
      "outputs": [],
      "source": [
        "import pandas as pd\n",
        "import re\n",
        "import nltk\n",
        "from nltk.translate import AlignedSent, IBMModel1"
      ]
    },
    {
      "cell_type": "markdown",
      "source": [
        "# Reading dataset from a CSV file and processing text data.\n",
        "\n",
        "**1. Reading the File:** Using pd.read_csv\n",
        "\n",
        "**2. Column Names:** Confirming names and removing Byte Order Mark (BOM) from column name if present\n",
        "\n",
        "**3. Clean_sentences function:** Stripping whitespace, converting text to lowercase, and removing non-alphanumeric characters."
      ],
      "metadata": {
        "id": "M4Ib_smJQQtb"
      }
    },
    {
      "cell_type": "code",
      "source": [
        "# Read the CSV file\n",
        "df = pd.read_csv(\"/content/updated.csv\", encoding='latin-1')\n",
        "\n",
        "# Check the columns to confirm their names\n",
        "print(df.columns)\n",
        "\n",
        "# Remove BOM from column name if present\n",
        "df.columns = df.columns.str.replace('ï»¿', '', regex=False)\n",
        "\n",
        "# Extract sentences from the relevant columns\n",
        "logooli_sentences = df['Luhya_Loogoli'].tolist()\n",
        "kiswahili_sentences = df['Kiswahili'].tolist()\n",
        "\n",
        "def clean_sentences(sentences):\n",
        "    cleaned_sentences = []\n",
        "    for sentence in sentences:\n",
        "        sentence = sentence.strip()\n",
        "        sentence = sentence.lower()\n",
        "        sentence = re.sub(r\"[^a-zA-Z0-9\\s]+\", \" \", sentence)  # Adjusted regex to keep spaces\n",
        "        cleaned_sentences.append(sentence.strip())\n",
        "    return cleaned_sentences\n",
        "\n",
        "# Clean the sentences\n",
        "cleaned_logooli_sentences = clean_sentences(logooli_sentences)\n",
        "cleaned_kiswahili_sentences = clean_sentences(kiswahili_sentences)\n",
        "\n",
        "print(cleaned_logooli_sentences[:5])  # Print the first 5 cleaned Logooli sentences\n",
        "print(cleaned_kiswahili_sentences[:5])  # Print the first 5 cleaned Kiswahili sentences\n"
      ],
      "metadata": {
        "colab": {
          "base_uri": "https://localhost:8080/"
        },
        "id": "Qhi4ASTBIOMU",
        "outputId": "0957ebaa-10af-407b-c14a-8abfe52c32b6"
      },
      "execution_count": 3,
      "outputs": [
        {
          "output_type": "stream",
          "name": "stdout",
          "text": [
            "Index(['Luhya_Loogoli', 'Kiswahili'], dtype='object')\n",
            "['lisyoma lya jeremia', 'lya duka ndi lidala kumenya lyeng ine lye li lizulira avandu  lya duka ndi kuva kuli mukunzakali  yili lya li linene ligali mutsihiri', 'mukana womwami hagati hevivala yivyo ya duka ndi kunigwa ku lisolola', '2 a liranga ligali inyinga yobudiku amaliga hehe go doolanga ku tsindama tsitye', 'mu vosi avayanze veve savaveye nomulala u mleminya mwoyo  avalina veve vosi vamukoleye agobugadi  vagwiye avasigu veve']\n",
            "['maombolezo', 'boma lilibaki vipi bila watu  lilikuwa limejaa watu  lilifikiaje kuwa kama mjane  hili lilikuwa kubwa zaidi katika koo', 'bintiye kiongozi kati ya nchi hizo alianzaje kulazimishwa kuchanga', '2 ataita kabisa wakati wa usiku katika matanga yake unayookota katika tama zake', 'kwa wote wapendwa wake hakuna mmoja anayeupendeza moyo wake  rafiki zake wote ni waongo  wamekua maadui zake']\n"
          ]
        }
      ]
    },
    {
      "cell_type": "markdown",
      "source": [
        "# Function for training the translation model.\n",
        "\n",
        "\n",
        "**1. Align Sentences:** It creates AlignedSent objects from pairs of source and target sentences. This is necessary for training the IBM Model 1, which is used for statistical machine translation.\n",
        "\n",
        "**2. Train IBM Model**: It initializes and trains the IBM Model 1 using the aligned sentences."
      ],
      "metadata": {
        "id": "rovS00t7P1R5"
      }
    },
    {
      "cell_type": "markdown",
      "source": [
        "*Modified cell incorporating error handling and iteration\n",
        "\n",
        "**3. Error Handling:** Added a check to ensure that the source and target sentences lists are of the same length, as mismatched lengths could cause issues.\n",
        "\n",
        "**4. Training Iterations:** The 10 in IBMModel1(aligned_sentences, 10) specifies the number of iterations for training. Adjust as needed based on data size and training requirements."
      ],
      "metadata": {
        "id": "e93ItNncVGGf"
      }
    },
    {
      "cell_type": "code",
      "source": [
        "from nltk.translate import AlignedSent, IBMModel1\n",
        "\n",
        "def train_translation_model(source_sentences, target_sentences):\n",
        "    # Ensure both source and target sentences lists are of the same length\n",
        "    if len(source_sentences) != len(target_sentences):\n",
        "        raise ValueError(\"Source and target sentences must be of the same length\")\n",
        "\n",
        "    # Create aligned sentences\n",
        "    aligned_sentences = [AlignedSent(source.split(), target.split()) for source, target in zip(source_sentences, target_sentences)]\n",
        "\n",
        "    # Train IBM Model 1\n",
        "    ibm_model = IBMModel1(aligned_sentences, 10)  # Adjust iterations if needed\n",
        "\n",
        "    return ibm_model\n",
        "\n",
        "# Train the translation model\n",
        "translation_model = train_translation_model(cleaned_logooli_sentences, cleaned_kiswahili_sentences)\n"
      ],
      "metadata": {
        "id": "A0ofvN9cVExI"
      },
      "execution_count": 6,
      "outputs": []
    },
    {
      "cell_type": "markdown",
      "source": [
        "# Function to interactively translate Luhya Logooli sentences to Kiswahili using the trained IBM Model\n"
      ],
      "metadata": {
        "id": "hcAaGYglW8Ws"
      }
    },
    {
      "cell_type": "code",
      "source": [
        "!pip install ipywidgets\n"
      ],
      "metadata": {
        "collapsed": true,
        "colab": {
          "base_uri": "https://localhost:8080/"
        },
        "id": "SMubPnHRd-Gt",
        "outputId": "969e30bb-fd0f-4fe4-ec61-a6f1066f5de0"
      },
      "execution_count": 19,
      "outputs": [
        {
          "output_type": "stream",
          "name": "stdout",
          "text": [
            "Requirement already satisfied: ipywidgets in /usr/local/lib/python3.10/dist-packages (7.7.1)\n",
            "Requirement already satisfied: ipykernel>=4.5.1 in /usr/local/lib/python3.10/dist-packages (from ipywidgets) (5.5.6)\n",
            "Requirement already satisfied: ipython-genutils~=0.2.0 in /usr/local/lib/python3.10/dist-packages (from ipywidgets) (0.2.0)\n",
            "Requirement already satisfied: traitlets>=4.3.1 in /usr/local/lib/python3.10/dist-packages (from ipywidgets) (5.7.1)\n",
            "Requirement already satisfied: widgetsnbextension~=3.6.0 in /usr/local/lib/python3.10/dist-packages (from ipywidgets) (3.6.7)\n",
            "Requirement already satisfied: ipython>=4.0.0 in /usr/local/lib/python3.10/dist-packages (from ipywidgets) (7.34.0)\n",
            "Requirement already satisfied: jupyterlab-widgets>=1.0.0 in /usr/local/lib/python3.10/dist-packages (from ipywidgets) (3.0.11)\n",
            "Requirement already satisfied: jupyter-client in /usr/local/lib/python3.10/dist-packages (from ipykernel>=4.5.1->ipywidgets) (6.1.12)\n",
            "Requirement already satisfied: tornado>=4.2 in /usr/local/lib/python3.10/dist-packages (from ipykernel>=4.5.1->ipywidgets) (6.3.3)\n",
            "Requirement already satisfied: setuptools>=18.5 in /usr/local/lib/python3.10/dist-packages (from ipython>=4.0.0->ipywidgets) (67.7.2)\n",
            "Collecting jedi>=0.16 (from ipython>=4.0.0->ipywidgets)\n",
            "  Downloading jedi-0.19.1-py2.py3-none-any.whl (1.6 MB)\n",
            "\u001b[2K     \u001b[90m━━━━━━━━━━━━━━━━━━━━━━━━━━━━━━━━━━━━━━━━\u001b[0m \u001b[32m1.6/1.6 MB\u001b[0m \u001b[31m16.8 MB/s\u001b[0m eta \u001b[36m0:00:00\u001b[0m\n",
            "\u001b[?25hRequirement already satisfied: decorator in /usr/local/lib/python3.10/dist-packages (from ipython>=4.0.0->ipywidgets) (4.4.2)\n",
            "Requirement already satisfied: pickleshare in /usr/local/lib/python3.10/dist-packages (from ipython>=4.0.0->ipywidgets) (0.7.5)\n",
            "Requirement already satisfied: prompt-toolkit!=3.0.0,!=3.0.1,<3.1.0,>=2.0.0 in /usr/local/lib/python3.10/dist-packages (from ipython>=4.0.0->ipywidgets) (3.0.47)\n",
            "Requirement already satisfied: pygments in /usr/local/lib/python3.10/dist-packages (from ipython>=4.0.0->ipywidgets) (2.16.1)\n",
            "Requirement already satisfied: backcall in /usr/local/lib/python3.10/dist-packages (from ipython>=4.0.0->ipywidgets) (0.2.0)\n",
            "Requirement already satisfied: matplotlib-inline in /usr/local/lib/python3.10/dist-packages (from ipython>=4.0.0->ipywidgets) (0.1.7)\n",
            "Requirement already satisfied: pexpect>4.3 in /usr/local/lib/python3.10/dist-packages (from ipython>=4.0.0->ipywidgets) (4.9.0)\n",
            "Requirement already satisfied: notebook>=4.4.1 in /usr/local/lib/python3.10/dist-packages (from widgetsnbextension~=3.6.0->ipywidgets) (6.5.5)\n",
            "Requirement already satisfied: parso<0.9.0,>=0.8.3 in /usr/local/lib/python3.10/dist-packages (from jedi>=0.16->ipython>=4.0.0->ipywidgets) (0.8.4)\n",
            "Requirement already satisfied: jinja2 in /usr/local/lib/python3.10/dist-packages (from notebook>=4.4.1->widgetsnbextension~=3.6.0->ipywidgets) (3.1.4)\n",
            "Requirement already satisfied: pyzmq<25,>=17 in /usr/local/lib/python3.10/dist-packages (from notebook>=4.4.1->widgetsnbextension~=3.6.0->ipywidgets) (24.0.1)\n",
            "Requirement already satisfied: argon2-cffi in /usr/local/lib/python3.10/dist-packages (from notebook>=4.4.1->widgetsnbextension~=3.6.0->ipywidgets) (23.1.0)\n",
            "Requirement already satisfied: jupyter-core>=4.6.1 in /usr/local/lib/python3.10/dist-packages (from notebook>=4.4.1->widgetsnbextension~=3.6.0->ipywidgets) (5.7.2)\n",
            "Requirement already satisfied: nbformat in /usr/local/lib/python3.10/dist-packages (from notebook>=4.4.1->widgetsnbextension~=3.6.0->ipywidgets) (5.10.4)\n",
            "Requirement already satisfied: nbconvert>=5 in /usr/local/lib/python3.10/dist-packages (from notebook>=4.4.1->widgetsnbextension~=3.6.0->ipywidgets) (6.5.4)\n",
            "Requirement already satisfied: nest-asyncio>=1.5 in /usr/local/lib/python3.10/dist-packages (from notebook>=4.4.1->widgetsnbextension~=3.6.0->ipywidgets) (1.6.0)\n",
            "Requirement already satisfied: Send2Trash>=1.8.0 in /usr/local/lib/python3.10/dist-packages (from notebook>=4.4.1->widgetsnbextension~=3.6.0->ipywidgets) (1.8.3)\n",
            "Requirement already satisfied: terminado>=0.8.3 in /usr/local/lib/python3.10/dist-packages (from notebook>=4.4.1->widgetsnbextension~=3.6.0->ipywidgets) (0.18.1)\n",
            "Requirement already satisfied: prometheus-client in /usr/local/lib/python3.10/dist-packages (from notebook>=4.4.1->widgetsnbextension~=3.6.0->ipywidgets) (0.20.0)\n",
            "Requirement already satisfied: nbclassic>=0.4.7 in /usr/local/lib/python3.10/dist-packages (from notebook>=4.4.1->widgetsnbextension~=3.6.0->ipywidgets) (1.1.0)\n",
            "Requirement already satisfied: python-dateutil>=2.1 in /usr/local/lib/python3.10/dist-packages (from jupyter-client->ipykernel>=4.5.1->ipywidgets) (2.8.2)\n",
            "Requirement already satisfied: ptyprocess>=0.5 in /usr/local/lib/python3.10/dist-packages (from pexpect>4.3->ipython>=4.0.0->ipywidgets) (0.7.0)\n",
            "Requirement already satisfied: wcwidth in /usr/local/lib/python3.10/dist-packages (from prompt-toolkit!=3.0.0,!=3.0.1,<3.1.0,>=2.0.0->ipython>=4.0.0->ipywidgets) (0.2.13)\n",
            "Requirement already satisfied: platformdirs>=2.5 in /usr/local/lib/python3.10/dist-packages (from jupyter-core>=4.6.1->notebook>=4.4.1->widgetsnbextension~=3.6.0->ipywidgets) (4.2.2)\n",
            "Requirement already satisfied: notebook-shim>=0.2.3 in /usr/local/lib/python3.10/dist-packages (from nbclassic>=0.4.7->notebook>=4.4.1->widgetsnbextension~=3.6.0->ipywidgets) (0.2.4)\n",
            "Requirement already satisfied: lxml in /usr/local/lib/python3.10/dist-packages (from nbconvert>=5->notebook>=4.4.1->widgetsnbextension~=3.6.0->ipywidgets) (4.9.4)\n",
            "Requirement already satisfied: beautifulsoup4 in /usr/local/lib/python3.10/dist-packages (from nbconvert>=5->notebook>=4.4.1->widgetsnbextension~=3.6.0->ipywidgets) (4.12.3)\n",
            "Requirement already satisfied: bleach in /usr/local/lib/python3.10/dist-packages (from nbconvert>=5->notebook>=4.4.1->widgetsnbextension~=3.6.0->ipywidgets) (6.1.0)\n",
            "Requirement already satisfied: defusedxml in /usr/local/lib/python3.10/dist-packages (from nbconvert>=5->notebook>=4.4.1->widgetsnbextension~=3.6.0->ipywidgets) (0.7.1)\n",
            "Requirement already satisfied: entrypoints>=0.2.2 in /usr/local/lib/python3.10/dist-packages (from nbconvert>=5->notebook>=4.4.1->widgetsnbextension~=3.6.0->ipywidgets) (0.4)\n",
            "Requirement already satisfied: jupyterlab-pygments in /usr/local/lib/python3.10/dist-packages (from nbconvert>=5->notebook>=4.4.1->widgetsnbextension~=3.6.0->ipywidgets) (0.3.0)\n",
            "Requirement already satisfied: MarkupSafe>=2.0 in /usr/local/lib/python3.10/dist-packages (from nbconvert>=5->notebook>=4.4.1->widgetsnbextension~=3.6.0->ipywidgets) (2.1.5)\n",
            "Requirement already satisfied: mistune<2,>=0.8.1 in /usr/local/lib/python3.10/dist-packages (from nbconvert>=5->notebook>=4.4.1->widgetsnbextension~=3.6.0->ipywidgets) (0.8.4)\n",
            "Requirement already satisfied: nbclient>=0.5.0 in /usr/local/lib/python3.10/dist-packages (from nbconvert>=5->notebook>=4.4.1->widgetsnbextension~=3.6.0->ipywidgets) (0.10.0)\n",
            "Requirement already satisfied: packaging in /usr/local/lib/python3.10/dist-packages (from nbconvert>=5->notebook>=4.4.1->widgetsnbextension~=3.6.0->ipywidgets) (24.1)\n",
            "Requirement already satisfied: pandocfilters>=1.4.1 in /usr/local/lib/python3.10/dist-packages (from nbconvert>=5->notebook>=4.4.1->widgetsnbextension~=3.6.0->ipywidgets) (1.5.1)\n",
            "Requirement already satisfied: tinycss2 in /usr/local/lib/python3.10/dist-packages (from nbconvert>=5->notebook>=4.4.1->widgetsnbextension~=3.6.0->ipywidgets) (1.3.0)\n",
            "Requirement already satisfied: fastjsonschema>=2.15 in /usr/local/lib/python3.10/dist-packages (from nbformat->notebook>=4.4.1->widgetsnbextension~=3.6.0->ipywidgets) (2.20.0)\n",
            "Requirement already satisfied: jsonschema>=2.6 in /usr/local/lib/python3.10/dist-packages (from nbformat->notebook>=4.4.1->widgetsnbextension~=3.6.0->ipywidgets) (4.19.2)\n",
            "Requirement already satisfied: six>=1.5 in /usr/local/lib/python3.10/dist-packages (from python-dateutil>=2.1->jupyter-client->ipykernel>=4.5.1->ipywidgets) (1.16.0)\n",
            "Requirement already satisfied: argon2-cffi-bindings in /usr/local/lib/python3.10/dist-packages (from argon2-cffi->notebook>=4.4.1->widgetsnbextension~=3.6.0->ipywidgets) (21.2.0)\n",
            "Requirement already satisfied: attrs>=22.2.0 in /usr/local/lib/python3.10/dist-packages (from jsonschema>=2.6->nbformat->notebook>=4.4.1->widgetsnbextension~=3.6.0->ipywidgets) (23.2.0)\n",
            "Requirement already satisfied: jsonschema-specifications>=2023.03.6 in /usr/local/lib/python3.10/dist-packages (from jsonschema>=2.6->nbformat->notebook>=4.4.1->widgetsnbextension~=3.6.0->ipywidgets) (2023.12.1)\n",
            "Requirement already satisfied: referencing>=0.28.4 in /usr/local/lib/python3.10/dist-packages (from jsonschema>=2.6->nbformat->notebook>=4.4.1->widgetsnbextension~=3.6.0->ipywidgets) (0.35.1)\n",
            "Requirement already satisfied: rpds-py>=0.7.1 in /usr/local/lib/python3.10/dist-packages (from jsonschema>=2.6->nbformat->notebook>=4.4.1->widgetsnbextension~=3.6.0->ipywidgets) (0.19.0)\n",
            "Requirement already satisfied: jupyter-server<3,>=1.8 in /usr/local/lib/python3.10/dist-packages (from notebook-shim>=0.2.3->nbclassic>=0.4.7->notebook>=4.4.1->widgetsnbextension~=3.6.0->ipywidgets) (1.24.0)\n",
            "Requirement already satisfied: cffi>=1.0.1 in /usr/local/lib/python3.10/dist-packages (from argon2-cffi-bindings->argon2-cffi->notebook>=4.4.1->widgetsnbextension~=3.6.0->ipywidgets) (1.16.0)\n",
            "Requirement already satisfied: soupsieve>1.2 in /usr/local/lib/python3.10/dist-packages (from beautifulsoup4->nbconvert>=5->notebook>=4.4.1->widgetsnbextension~=3.6.0->ipywidgets) (2.5)\n",
            "Requirement already satisfied: webencodings in /usr/local/lib/python3.10/dist-packages (from bleach->nbconvert>=5->notebook>=4.4.1->widgetsnbextension~=3.6.0->ipywidgets) (0.5.1)\n",
            "Requirement already satisfied: pycparser in /usr/local/lib/python3.10/dist-packages (from cffi>=1.0.1->argon2-cffi-bindings->argon2-cffi->notebook>=4.4.1->widgetsnbextension~=3.6.0->ipywidgets) (2.22)\n",
            "Requirement already satisfied: anyio<4,>=3.1.0 in /usr/local/lib/python3.10/dist-packages (from jupyter-server<3,>=1.8->notebook-shim>=0.2.3->nbclassic>=0.4.7->notebook>=4.4.1->widgetsnbextension~=3.6.0->ipywidgets) (3.7.1)\n",
            "Requirement already satisfied: websocket-client in /usr/local/lib/python3.10/dist-packages (from jupyter-server<3,>=1.8->notebook-shim>=0.2.3->nbclassic>=0.4.7->notebook>=4.4.1->widgetsnbextension~=3.6.0->ipywidgets) (1.8.0)\n",
            "Requirement already satisfied: idna>=2.8 in /usr/local/lib/python3.10/dist-packages (from anyio<4,>=3.1.0->jupyter-server<3,>=1.8->notebook-shim>=0.2.3->nbclassic>=0.4.7->notebook>=4.4.1->widgetsnbextension~=3.6.0->ipywidgets) (3.7)\n",
            "Requirement already satisfied: sniffio>=1.1 in /usr/local/lib/python3.10/dist-packages (from anyio<4,>=3.1.0->jupyter-server<3,>=1.8->notebook-shim>=0.2.3->nbclassic>=0.4.7->notebook>=4.4.1->widgetsnbextension~=3.6.0->ipywidgets) (1.3.1)\n",
            "Requirement already satisfied: exceptiongroup in /usr/local/lib/python3.10/dist-packages (from anyio<4,>=3.1.0->jupyter-server<3,>=1.8->notebook-shim>=0.2.3->nbclassic>=0.4.7->notebook>=4.4.1->widgetsnbextension~=3.6.0->ipywidgets) (1.2.2)\n",
            "Installing collected packages: jedi\n",
            "Successfully installed jedi-0.19.1\n"
          ]
        }
      ]
    },
    {
      "cell_type": "code",
      "source": [
        "import ipywidgets as widgets\n",
        "from IPython.display import display, clear_output, HTML\n",
        "\n",
        "def translate_input(ibm_model):\n",
        "    # Create widgets\n",
        "    text_input = widgets.Text(\n",
        "        description='Sentence:',\n",
        "        placeholder='Type your Luhya Logooli sentence here',\n",
        "        layout=widgets.Layout(width='80%')\n",
        "    )\n",
        "\n",
        "    translate_button = widgets.Button(\n",
        "        description='Translate',\n",
        "        button_style='success',\n",
        "        layout=widgets.Layout(width='20%')\n",
        "    )\n",
        "\n",
        "    output = widgets.Output()\n",
        "\n",
        "    def on_button_click(b):\n",
        "        with output:\n",
        "            clear_output(wait=True)  # Clear previous output\n",
        "\n",
        "            source_text = text_input.value\n",
        "            if source_text.lower() == 'q':\n",
        "                print(\"Quitting...\")\n",
        "                return\n",
        "\n",
        "            cleaned_text = clean_sentences(source_text.split())\n",
        "            source_words = cleaned_text\n",
        "            translated_words = []\n",
        "\n",
        "            for source_word in source_words:\n",
        "                max_prob = 0.0\n",
        "                translated_word = None\n",
        "                for target_word in ibm_model.translation_table.get(source_word, {}):\n",
        "                    prob = ibm_model.translation_table[source_word][target_word]\n",
        "                    if prob > max_prob:\n",
        "                        max_prob = prob\n",
        "                        translated_word = target_word\n",
        "                if translated_word is not None:\n",
        "                    translated_words.append(translated_word)\n",
        "\n",
        "            translated_text = ' '.join(translated_words)\n",
        "            print(\"Translated text:\", translated_text)\n",
        "\n",
        "    # Link the button to the function\n",
        "    translate_button.on_click(on_button_click)\n",
        "\n",
        "    # Display widgets with some styling\n",
        "    display(HTML(\"<h2>Translation Interface</h2>\"))\n",
        "    display(widgets.VBox([text_input, translate_button, output]))\n",
        "\n",
        "# Call the function with your model\n",
        "translate_input(translation_model)\n"
      ],
      "metadata": {
        "colab": {
          "base_uri": "https://localhost:8080/",
          "height": 146,
          "referenced_widgets": [
            "9bea2275ac9c42e68f702d25be974601",
            "408473e6e02546569677d59dd7afd6c9",
            "923e8f29cdfd453c86afcfbba95e8432",
            "e9dff129b56f4f58a08a926411091059",
            "f3acb36396db4871b29295c4794c087f",
            "6564bf209d784fea8b5b5b8b5c951eb5",
            "0dbb1739601e42abba17246888aee5a5",
            "6a62b4639a754ff3b4fea907475df888",
            "798038c17c074a72b960d5566c2e098e",
            "23d4a42c7a2e4f09b630f3d5a79164de"
          ]
        },
        "id": "n7Gh07lpkDIh",
        "outputId": "50c12acf-57a0-4154-be33-511e50235a93"
      },
      "execution_count": 23,
      "outputs": [
        {
          "output_type": "display_data",
          "data": {
            "text/plain": [
              "<IPython.core.display.HTML object>"
            ],
            "text/html": [
              "<h2>Translation Interface</h2>"
            ]
          },
          "metadata": {}
        },
        {
          "output_type": "display_data",
          "data": {
            "text/plain": [
              "VBox(children=(Text(value='', description='Sentence:', layout=Layout(width='80%'), placeholder='Type your Luhy…"
            ],
            "application/vnd.jupyter.widget-view+json": {
              "version_major": 2,
              "version_minor": 0,
              "model_id": "9bea2275ac9c42e68f702d25be974601"
            }
          },
          "metadata": {}
        }
      ]
    },
    {
      "cell_type": "code",
      "source": [
        "# Define the data cleaning function\n",
        "def clean_sentences(sentences):\n",
        "    cleaned_sentences = []\n",
        "    for sentence in sentences:\n",
        "        sentence = sentence.strip().lower()\n",
        "        sentence = re.sub(r\"[^a-zA-Z0-9\\s]+\", \" \", sentence)\n",
        "        cleaned_sentences.append(sentence.strip())\n",
        "    return cleaned_sentences\n",
        "\n",
        "# Define the translation function\n",
        "def translate_sentence(ibm_model, sentence):\n",
        "    cleaned_text = clean_sentences([sentence])[0]\n",
        "    source_words = cleaned_text.split()\n",
        "    translated_words = []\n",
        "    for source_word in source_words:\n",
        "        if source_word in ibm_model.translation_table:\n",
        "            max_prob = 0.0\n",
        "            translated_word = None\n",
        "            for target_word in ibm_model.translation_table[source_word]:\n",
        "                prob = ibm_model.translation_table[source_word][target_word]\n",
        "                if prob > max_prob:\n",
        "                    max_prob = prob\n",
        "                    translated_word = target_word\n",
        "            if translated_word is not None:\n",
        "                translated_words.append(translated_word)\n",
        "            else:\n",
        "                translated_words.append(source_word)  # Keep the word if no translation found\n",
        "        else:\n",
        "            translated_words.append(source_word)  # Keep the word if not in the model\n",
        "    return ' '.join(translated_words)\n",
        "\n",
        "# Dummy function for loading a model (replace with actual model loading code)\n",
        "def load_model():\n",
        "    # Dummy data for the purpose of example\n",
        "    train_logooli = [\"hello world\", \"how are you\"]\n",
        "    train_kiswahili = [\"habari dunia\", \"habari yako\"]\n",
        "    return train_translation_model(train_logooli, train_kiswahili, iterations=20)\n",
        "\n",
        "# Dummy function for training the model (replace with actual training code)\n",
        "def train_translation_model(source_sentences, target_sentences, iterations=10):\n",
        "    aligned_sentences = [AlignedSent(source.split(), target.split()) for source, target in zip(source_sentences, target_sentences)]\n",
        "    ibm_model = IBMModel1(aligned_sentences, iterations)\n",
        "    return ibm_model\n",
        "\n",
        "# Load or train your model\n",
        "translation_model = load_model()\n",
        "\n",
        "# Create interactive widgets\n",
        "input_text = widgets.Text(\n",
        "    description='Enter sentence:',\n",
        "    placeholder='Type here'\n",
        ")\n",
        "\n",
        "output_text = widgets.Output()\n",
        "\n",
        "def on_button_click(b):\n",
        "    with output_text:\n",
        "        sentence = input_text.value\n",
        "        if sentence:\n",
        "            translated_sentence = translate_sentence(translation_model, sentence)\n",
        "            print(\"Translated sentence:\", translated_sentence)\n",
        "        else:\n",
        "            print(\"Please enter a sentence to translate.\")\n",
        "\n",
        "button = widgets.Button(description=\"Translate\")\n",
        "button.on_click(on_button_click)\n",
        "\n",
        "display(input_text, button, output_text)\n"
      ],
      "metadata": {
        "colab": {
          "base_uri": "https://localhost:8080/",
          "height": 82,
          "referenced_widgets": [
            "83e132288b6643a3abf1281474b95ee6",
            "fc0d8dfde0394dc3a86efa27acf723b8",
            "ebc55fcb6d0444af9000a403bcb03078",
            "846e5ea69d234693a6a226a8beaf8405",
            "0e15f65d50ef487493ee61f035e274ca",
            "4228608608064967b15d93637b3165f8",
            "81eaa5538f3843dfb6b3446cba788979",
            "3ffb70e1049143a4ab50973c03f8493c"
          ]
        },
        "id": "ZtJK-FdIeEcL",
        "outputId": "d49f74fd-b9cd-4c72-c8b3-383f4398b1bb"
      },
      "execution_count": 25,
      "outputs": [
        {
          "output_type": "display_data",
          "data": {
            "text/plain": [
              "Text(value='', description='Enter sentence:', placeholder='Type here')"
            ],
            "application/vnd.jupyter.widget-view+json": {
              "version_major": 2,
              "version_minor": 0,
              "model_id": "83e132288b6643a3abf1281474b95ee6"
            }
          },
          "metadata": {}
        },
        {
          "output_type": "display_data",
          "data": {
            "text/plain": [
              "Button(description='Translate', style=ButtonStyle())"
            ],
            "application/vnd.jupyter.widget-view+json": {
              "version_major": 2,
              "version_minor": 0,
              "model_id": "846e5ea69d234693a6a226a8beaf8405"
            }
          },
          "metadata": {}
        },
        {
          "output_type": "display_data",
          "data": {
            "text/plain": [
              "Output()"
            ],
            "application/vnd.jupyter.widget-view+json": {
              "version_major": 2,
              "version_minor": 0,
              "model_id": "81eaa5538f3843dfb6b3446cba788979"
            }
          },
          "metadata": {}
        }
      ]
    },
    {
      "cell_type": "markdown",
      "source": [
        "# Evaluating the translation model using BLEU scores.\n",
        "\n"
      ],
      "metadata": {
        "id": "H2KlHNwNX5s7"
      }
    },
    {
      "cell_type": "code",
      "source": [
        "from sklearn.model_selection import train_test_split\n",
        "from nltk.translate.bleu_score import sentence_bleu, SmoothingFunction\n",
        "\n",
        "# Split the dataset\n",
        "train_logooli, test_logooli, train_kiswahili, test_kiswahili = train_test_split(\n",
        "    cleaned_logooli_sentences, cleaned_kiswahili_sentences, test_size=0.2, random_state=42\n",
        ")\n",
        "\n",
        "# Train the model on the training set\n",
        "translation_model = train_translation_model(train_logooli, train_kiswahili)\n",
        "\n",
        "# Function to translate sentences\n",
        "def translate_sentence(ibm_model, sentence):\n",
        "    cleaned_text = clean_sentences([sentence])[0].split()\n",
        "    translated_words = []\n",
        "    for source_word in cleaned_text:\n",
        "        if source_word in ibm_model.translation_table:\n",
        "            max_prob = 0.0\n",
        "            translated_word = None\n",
        "            for target_word in ibm_model.translation_table[source_word]:\n",
        "                prob = ibm_model.translation_table[source_word][target_word]\n",
        "                if prob > max_prob:\n",
        "                    max_prob = prob\n",
        "                    translated_word = target_word\n",
        "            if translated_word is not None:\n",
        "                translated_words.append(translated_word)\n",
        "        else:\n",
        "            translated_words.append(source_word)  # Keep the word if no translation found\n",
        "    return ' '.join(translated_words)\n",
        "\n",
        "# Evaluate the model\n",
        "bleu_scores = []\n",
        "smoothie = SmoothingFunction().method4  # Smoothing method to handle short sentences\n",
        "\n",
        "for source_sentence, target_sentence in zip(test_logooli, test_kiswahili):\n",
        "    translated_sentence = translate_sentence(translation_model, source_sentence)\n",
        "    reference = [target_sentence.split()]\n",
        "    candidate = translated_sentence.split()\n",
        "    try:\n",
        "        bleu_score = sentence_bleu(reference, candidate, smoothing_function=smoothie)\n",
        "        bleu_scores.append(bleu_score)\n",
        "    except Exception as e:\n",
        "        print(f\"Error calculating BLEU score for sentence: {source_sentence}\\n{e}\")\n",
        "\n",
        "average_bleu_score = sum(bleu_scores) / len(bleu_scores) if bleu_scores else 0\n",
        "print(\"Average BLEU score:\", average_bleu_score)\n"
      ],
      "metadata": {
        "colab": {
          "base_uri": "https://localhost:8080/"
        },
        "id": "J2b5FbwAYLqG",
        "outputId": "fb3b1c42-40f6-4989-ce7a-35fed9241dab"
      },
      "execution_count": 10,
      "outputs": [
        {
          "output_type": "stream",
          "name": "stdout",
          "text": [
            "Average BLEU score: 0.009463065465849624\n"
          ]
        }
      ]
    },
    {
      "cell_type": "markdown",
      "source": [
        "# Fine-tune the number of iterations for training the IBM Model 1 and re-evaluate the model"
      ],
      "metadata": {
        "id": "Of52n8kzZml1"
      }
    },
    {
      "cell_type": "code",
      "source": [
        "# Fine-tune the number of iterations\n",
        "def train_translation_model(source_sentences, target_sentences, iterations=10):\n",
        "    aligned_sentences = [AlignedSent(source.split(), target.split()) for source, target in zip(source_sentences, target_sentences)]\n",
        "    ibm_model = IBMModel1(aligned_sentences, iterations)\n",
        "    return ibm_model\n",
        "\n",
        "# Train with more iterations\n",
        "translation_model = train_translation_model(train_logooli, train_kiswahili, iterations=20)\n",
        "\n",
        "# Re-evaluate the model\n",
        "from nltk.translate.bleu_score import SmoothingFunction\n",
        "\n",
        "bleu_scores = []\n",
        "smoothie = SmoothingFunction().method4  # Smoothing method to handle short sentences\n",
        "\n",
        "for source_sentence, target_sentence in zip(test_logooli, test_kiswahili):\n",
        "    translated_sentence = translate_sentence(translation_model, source_sentence)\n",
        "    reference = [target_sentence.split()]\n",
        "    candidate = translated_sentence.split()\n",
        "    try:\n",
        "        bleu_score = sentence_bleu(reference, candidate, smoothing_function=smoothie)\n",
        "        bleu_scores.append(bleu_score)\n",
        "    except Exception as e:\n",
        "        print(f\"Error calculating BLEU score for sentence: {source_sentence}\\n{e}\")\n",
        "\n",
        "average_bleu_score = sum(bleu_scores) / len(bleu_scores) if bleu_scores else 0\n",
        "print(\"Average BLEU score after fine-tuning:\", average_bleu_score)\n"
      ],
      "metadata": {
        "colab": {
          "base_uri": "https://localhost:8080/"
        },
        "id": "nnE8tXKEZ3m5",
        "outputId": "90d50ab5-2157-4f31-d9e5-898ef4b33777"
      },
      "execution_count": 11,
      "outputs": [
        {
          "output_type": "stream",
          "name": "stdout",
          "text": [
            "Average BLEU score after fine-tuning: 0.009560483011628634\n"
          ]
        }
      ]
    }
  ]
}